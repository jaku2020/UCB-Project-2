{
 "cells": [
  {
   "cell_type": "markdown",
   "metadata": {},
   "source": [
    "# What drives the price of a car?\n",
    "\n",
    "![](images/kurt.jpeg)"
   ]
  },
  {
   "cell_type": "markdown",
   "metadata": {},
   "source": [
    "**OVERVIEW**\n",
    "\n",
    "In this application, you will explore a dataset from kaggle. The original dataset contained information on 3 million used cars. The provided dataset contains information on 426K cars to ensure speed of processing.  Your goal is to understand what factors make a car more or less expensive.  As a result of your analysis, you should provide clear recommendations to your client -- a used car dealership -- as to what consumers value in a used car."
   ]
  },
  {
   "cell_type": "markdown",
   "metadata": {},
   "source": [
    "### CRISP-DM Framework\n",
    "\n",
    "<center>\n",
    "    <img src = images/crisp.png width = 50%/>\n",
    "</center>\n",
    "\n",
    "\n",
    "To frame the task, throughout our practical applications we will refer back to a standard process in industry for data projects called CRISP-DM.  This process provides a framework for working through a data problem.  Your first step in this application will be to read through a brief overview of CRISP-DM [here](https://mo-pcco.s3.us-east-1.amazonaws.com/BH-PCMLAI/module_11/readings_starter.zip).  After reading the overview, answer the questions below."
   ]
  },
  {
   "cell_type": "markdown",
   "metadata": {},
   "source": [
    "### Business Understanding\n",
    "\n",
    "From a business perspective, we are tasked with identifying key drivers for used car prices.  In the CRISP-DM overview, we are asked to convert this business framing to a data problem definition.  Using a few sentences, reframe the task as a data task with the appropriate technical vocabulary. "
   ]
  },
  {
   "cell_type": "code",
   "execution_count": null,
   "metadata": {},
   "outputs": [],
   "source": [
    "# The dealerships want to know what used cars have the highest resale value and why. The "
   ]
  },
  {
   "cell_type": "code",
   "execution_count": null,
   "metadata": {},
   "outputs": [],
   "source": [
    "# objective is to identify the factors that drive the prices of used cars. To achieve"
   ]
  },
  {
   "cell_type": "code",
   "execution_count": null,
   "metadata": {},
   "outputs": [],
   "source": [
    "# that, our objective is to collect and analyze data related to used car prices and their"
   ]
  },
  {
   "cell_type": "code",
   "execution_count": null,
   "metadata": {},
   "outputs": [],
   "source": [
    "# attributes, and build a predictive model to identify the key drivers of used car prices."
   ]
  },
  {
   "cell_type": "markdown",
   "metadata": {},
   "source": [
    "### Data Understanding\n",
    "\n",
    "After considering the business understanding, we want to get familiar with our data.  Write down some steps that you would take to get to know the dataset and identify any quality issues within.  Take time to get to know the dataset and explore what information it contains and how this could be used to inform your business understanding."
   ]
  },
  {
   "cell_type": "code",
   "execution_count": null,
   "metadata": {},
   "outputs": [],
   "source": [
    "# After performing EDA I checked for missing values, outliers, duplicates, consistency,"
   ]
  },
  {
   "cell_type": "code",
   "execution_count": null,
   "metadata": {},
   "outputs": [],
   "source": [
    "# accuracy, completeness. In the process I saw anomalies in pricing and odometer. Decided that"
   ]
  },
  {
   "cell_type": "code",
   "execution_count": null,
   "metadata": {},
   "outputs": [],
   "source": [
    "# adding 'age' column is more beneficial than having 'year'. A lot of missing data can be "
   ]
  },
  {
   "cell_type": "code",
   "execution_count": null,
   "metadata": {},
   "outputs": [],
   "source": [
    "# filled based on 'VIN' column value decoding."
   ]
  },
  {
   "cell_type": "markdown",
   "metadata": {},
   "source": [
    "### Data Preparation\n",
    "\n",
    "After our initial exploration and fine tuning of the business understanding, it is time to construct our final dataset prior to modeling.  Here, we want to make sure to handle any integrity issues and cleaning, the engineering of new features, any transformations that we believe should happen (scaling, logarithms, normalization, etc.), and general preparation for modeling with `sklearn`. "
   ]
  },
  {
   "cell_type": "code",
   "execution_count": null,
   "metadata": {},
   "outputs": [],
   "source": [
    "# Missing values:"
   ]
  },
  {
   "cell_type": "code",
   "execution_count": null,
   "metadata": {},
   "outputs": [],
   "source": [
    "### a lot of them can be based on decoding values of \"VIN\" column,\n",
    "### some missing values can be discovered in a differnt column of the same row"
   ]
  },
  {
   "cell_type": "code",
   "execution_count": null,
   "metadata": {},
   "outputs": [],
   "source": [
    "### droppig rows with NaN in \"Year\" becuase this is a very important parameter\n",
    "### dropping rows missing 4+ values, because it's to much missing information (25% or more per row)"
   ]
  },
  {
   "cell_type": "code",
   "execution_count": null,
   "metadata": {},
   "outputs": [],
   "source": [
    "### dropping id column because it doesn't contribute to building a model\n",
    "\n",
    "### dropping VIN column because values are all unique and don't affect outcomes\n",
    "\n",
    "### dropping the 'model' column (30,000 values). It will just slow down processing time and\n",
    "### won't have valuable input.\n",
    "\n",
    "### drop the \"size\" column because more than 70% of data is missing. BTW \"type\" \n",
    "### column indicates well the size of the car."
   ]
  },
  {
   "cell_type": "code",
   "execution_count": null,
   "metadata": {},
   "outputs": [],
   "source": [
    "### splitting data by type column to create new datasets\n",
    "###### Each new dataset will have values in columns that will be appropriate for the vehicle\n",
    "###### type, e.g. pickup's condition is most likely way different than convirtable's\n",
    "###### On each new dataset: \n",
    "########### no longer need column 'type' (all values same)\n",
    "########### fill odometer missing values with mean/ median based on values distribution\n",
    "########### since there is a large pool of data available in each column\n",
    "################# the mssing values can be replaced with existing values proportionately\n",
    "########### Ordinal encoding will be applied for 'condition' and 'title_status' \n",
    "########### OHE will be applied for other columns"
   ]
  },
  {
   "cell_type": "markdown",
   "metadata": {},
   "source": [
    "### Modeling\n",
    "\n",
    "With your (almost?) final dataset in hand, it is now time to build some models.  Here, you should build a number of different regression models with the price as the target.  In building your models, you should explore different parameters and be sure to cross-validate your findings."
   ]
  },
  {
   "cell_type": "code",
   "execution_count": null,
   "metadata": {},
   "outputs": [],
   "source": [
    "# I will build a baseline model to make sure that my models are doing well."
   ]
  },
  {
   "cell_type": "code",
   "execution_count": null,
   "metadata": {},
   "outputs": [],
   "source": [
    "# For Model training I will use no regularization (optimize polynomial feature degree), L1 \n",
    "# and L2 (optimize polynomial feature degree and alpha) Linear regression. Then I will \n",
    "# run all off them through SFS and RFE (optimize for n features) to hopefully get even \n",
    "# better results. "
   ]
  },
  {
   "cell_type": "code",
   "execution_count": null,
   "metadata": {},
   "outputs": [],
   "source": [
    "# Once I have a best model I will plug it into Permutation Feature Importance to select\n",
    "# best features."
   ]
  },
  {
   "cell_type": "markdown",
   "metadata": {},
   "source": [
    "### Evaluation\n",
    "\n",
    "With some modeling accomplished, we aim to reflect on what we identify as a high quality model and what we are able to learn from this.  We should review our business objective and explore how well we can provide meaningful insight on drivers of used car prices.  Your goal now is to distill your findings and determine whether the earlier phases need revisitation and adjustment or if you have information of value to bring back to your client."
   ]
  },
  {
   "cell_type": "code",
   "execution_count": 1,
   "metadata": {},
   "outputs": [],
   "source": [
    "# Once finished with all datasets I will identify the factors that drive the prices of used \n",
    "# cars for each type of the vehicle. \n",
    "# The earlier phases do not need revisitation nor adjustment. \n",
    "# I have information of value to bring back to my client."
   ]
  },
  {
   "cell_type": "markdown",
   "metadata": {},
   "source": [
    "### Deployment\n",
    "\n",
    "Now that we've settled on our models and findings, it is time to deliver the information to the client.  You should organize your work as a basic report that details your primary findings.  Keep in mind that your audience is a group of used car dealers interested in fine tuning their inventory."
   ]
  },
  {
   "cell_type": "code",
   "execution_count": 1,
   "metadata": {},
   "outputs": [],
   "source": [
    "# DATA CLEAN UP"
   ]
  },
  {
   "cell_type": "code",
   "execution_count": 2,
   "metadata": {},
   "outputs": [],
   "source": [
    "from sklearn.pipeline import Pipeline\n",
    "from sklearn.model_selection import GridSearchCV\n",
    "from sklearn.linear_model import LinearRegression, Ridge, Lasso\n",
    "from sklearn.preprocessing import PolynomialFeatures, StandardScaler, OneHotEncoder\n",
    "from sklearn.compose import make_column_transformer, TransformedTargetRegressor\n",
    "from sklearn.inspection import permutation_importance\n",
    "from sklearn.feature_selection import SequentialFeatureSelector\n",
    "import numpy as np\n",
    "import plotly.express as px\n",
    "import pandas as pd\n",
    "import warnings\n",
    "from sklearn.model_selection import train_test_split\n",
    "from sklearn.metrics import mean_squared_error\n",
    "from sklearn.preprocessing import OrdinalEncoder"
   ]
  },
  {
   "cell_type": "code",
   "execution_count": 3,
   "metadata": {},
   "outputs": [],
   "source": [
    "df= pd.read_csv('/Users/chameleonjj/Downloads/ASSIGNMENT 11/Data/vehicles.csv')"
   ]
  },
  {
   "cell_type": "code",
   "execution_count": 4,
   "metadata": {},
   "outputs": [
    {
     "data": {
      "text/html": [
       "<div>\n",
       "<style scoped>\n",
       "    .dataframe tbody tr th:only-of-type {\n",
       "        vertical-align: middle;\n",
       "    }\n",
       "\n",
       "    .dataframe tbody tr th {\n",
       "        vertical-align: top;\n",
       "    }\n",
       "\n",
       "    .dataframe thead th {\n",
       "        text-align: right;\n",
       "    }\n",
       "</style>\n",
       "<table border=\"1\" class=\"dataframe\">\n",
       "  <thead>\n",
       "    <tr style=\"text-align: right;\">\n",
       "      <th></th>\n",
       "      <th>id</th>\n",
       "      <th>region</th>\n",
       "      <th>price</th>\n",
       "      <th>year</th>\n",
       "      <th>manufacturer</th>\n",
       "      <th>model</th>\n",
       "      <th>condition</th>\n",
       "      <th>cylinders</th>\n",
       "      <th>fuel</th>\n",
       "      <th>odometer</th>\n",
       "      <th>title_status</th>\n",
       "      <th>transmission</th>\n",
       "      <th>VIN</th>\n",
       "      <th>drive</th>\n",
       "      <th>size</th>\n",
       "      <th>type</th>\n",
       "      <th>paint_color</th>\n",
       "      <th>state</th>\n",
       "    </tr>\n",
       "  </thead>\n",
       "  <tbody>\n",
       "    <tr>\n",
       "      <th>0</th>\n",
       "      <td>7222695916</td>\n",
       "      <td>prescott</td>\n",
       "      <td>6000</td>\n",
       "      <td>NaN</td>\n",
       "      <td>NaN</td>\n",
       "      <td>NaN</td>\n",
       "      <td>NaN</td>\n",
       "      <td>NaN</td>\n",
       "      <td>NaN</td>\n",
       "      <td>NaN</td>\n",
       "      <td>NaN</td>\n",
       "      <td>NaN</td>\n",
       "      <td>NaN</td>\n",
       "      <td>NaN</td>\n",
       "      <td>NaN</td>\n",
       "      <td>NaN</td>\n",
       "      <td>NaN</td>\n",
       "      <td>az</td>\n",
       "    </tr>\n",
       "    <tr>\n",
       "      <th>1</th>\n",
       "      <td>7218891961</td>\n",
       "      <td>fayetteville</td>\n",
       "      <td>11900</td>\n",
       "      <td>NaN</td>\n",
       "      <td>NaN</td>\n",
       "      <td>NaN</td>\n",
       "      <td>NaN</td>\n",
       "      <td>NaN</td>\n",
       "      <td>NaN</td>\n",
       "      <td>NaN</td>\n",
       "      <td>NaN</td>\n",
       "      <td>NaN</td>\n",
       "      <td>NaN</td>\n",
       "      <td>NaN</td>\n",
       "      <td>NaN</td>\n",
       "      <td>NaN</td>\n",
       "      <td>NaN</td>\n",
       "      <td>ar</td>\n",
       "    </tr>\n",
       "    <tr>\n",
       "      <th>2</th>\n",
       "      <td>7221797935</td>\n",
       "      <td>florida keys</td>\n",
       "      <td>21000</td>\n",
       "      <td>NaN</td>\n",
       "      <td>NaN</td>\n",
       "      <td>NaN</td>\n",
       "      <td>NaN</td>\n",
       "      <td>NaN</td>\n",
       "      <td>NaN</td>\n",
       "      <td>NaN</td>\n",
       "      <td>NaN</td>\n",
       "      <td>NaN</td>\n",
       "      <td>NaN</td>\n",
       "      <td>NaN</td>\n",
       "      <td>NaN</td>\n",
       "      <td>NaN</td>\n",
       "      <td>NaN</td>\n",
       "      <td>fl</td>\n",
       "    </tr>\n",
       "    <tr>\n",
       "      <th>3</th>\n",
       "      <td>7222270760</td>\n",
       "      <td>worcester / central MA</td>\n",
       "      <td>1500</td>\n",
       "      <td>NaN</td>\n",
       "      <td>NaN</td>\n",
       "      <td>NaN</td>\n",
       "      <td>NaN</td>\n",
       "      <td>NaN</td>\n",
       "      <td>NaN</td>\n",
       "      <td>NaN</td>\n",
       "      <td>NaN</td>\n",
       "      <td>NaN</td>\n",
       "      <td>NaN</td>\n",
       "      <td>NaN</td>\n",
       "      <td>NaN</td>\n",
       "      <td>NaN</td>\n",
       "      <td>NaN</td>\n",
       "      <td>ma</td>\n",
       "    </tr>\n",
       "    <tr>\n",
       "      <th>4</th>\n",
       "      <td>7210384030</td>\n",
       "      <td>greensboro</td>\n",
       "      <td>4900</td>\n",
       "      <td>NaN</td>\n",
       "      <td>NaN</td>\n",
       "      <td>NaN</td>\n",
       "      <td>NaN</td>\n",
       "      <td>NaN</td>\n",
       "      <td>NaN</td>\n",
       "      <td>NaN</td>\n",
       "      <td>NaN</td>\n",
       "      <td>NaN</td>\n",
       "      <td>NaN</td>\n",
       "      <td>NaN</td>\n",
       "      <td>NaN</td>\n",
       "      <td>NaN</td>\n",
       "      <td>NaN</td>\n",
       "      <td>nc</td>\n",
       "    </tr>\n",
       "  </tbody>\n",
       "</table>\n",
       "</div>"
      ],
      "text/plain": [
       "           id                  region  price  year manufacturer model  \\\n",
       "0  7222695916                prescott   6000   NaN          NaN   NaN   \n",
       "1  7218891961            fayetteville  11900   NaN          NaN   NaN   \n",
       "2  7221797935            florida keys  21000   NaN          NaN   NaN   \n",
       "3  7222270760  worcester / central MA   1500   NaN          NaN   NaN   \n",
       "4  7210384030              greensboro   4900   NaN          NaN   NaN   \n",
       "\n",
       "  condition cylinders fuel  odometer title_status transmission  VIN drive  \\\n",
       "0       NaN       NaN  NaN       NaN          NaN          NaN  NaN   NaN   \n",
       "1       NaN       NaN  NaN       NaN          NaN          NaN  NaN   NaN   \n",
       "2       NaN       NaN  NaN       NaN          NaN          NaN  NaN   NaN   \n",
       "3       NaN       NaN  NaN       NaN          NaN          NaN  NaN   NaN   \n",
       "4       NaN       NaN  NaN       NaN          NaN          NaN  NaN   NaN   \n",
       "\n",
       "  size type paint_color state  \n",
       "0  NaN  NaN         NaN    az  \n",
       "1  NaN  NaN         NaN    ar  \n",
       "2  NaN  NaN         NaN    fl  \n",
       "3  NaN  NaN         NaN    ma  \n",
       "4  NaN  NaN         NaN    nc  "
      ]
     },
     "execution_count": 4,
     "metadata": {},
     "output_type": "execute_result"
    }
   ],
   "source": [
    "df.head()"
   ]
  },
  {
   "cell_type": "code",
   "execution_count": 5,
   "metadata": {},
   "outputs": [
    {
     "name": "stdout",
     "output_type": "stream",
     "text": [
      "<class 'pandas.core.frame.DataFrame'>\n",
      "RangeIndex: 426880 entries, 0 to 426879\n",
      "Data columns (total 18 columns):\n",
      " #   Column        Non-Null Count   Dtype  \n",
      "---  ------        --------------   -----  \n",
      " 0   id            426880 non-null  int64  \n",
      " 1   region        426880 non-null  object \n",
      " 2   price         426880 non-null  int64  \n",
      " 3   year          425675 non-null  float64\n",
      " 4   manufacturer  409234 non-null  object \n",
      " 5   model         421603 non-null  object \n",
      " 6   condition     252776 non-null  object \n",
      " 7   cylinders     249202 non-null  object \n",
      " 8   fuel          423867 non-null  object \n",
      " 9   odometer      422480 non-null  float64\n",
      " 10  title_status  418638 non-null  object \n",
      " 11  transmission  424324 non-null  object \n",
      " 12  VIN           265838 non-null  object \n",
      " 13  drive         296313 non-null  object \n",
      " 14  size          120519 non-null  object \n",
      " 15  type          334022 non-null  object \n",
      " 16  paint_color   296677 non-null  object \n",
      " 17  state         426880 non-null  object \n",
      "dtypes: float64(2), int64(2), object(14)\n",
      "memory usage: 58.6+ MB\n"
     ]
    }
   ],
   "source": [
    "df.info()"
   ]
  },
  {
   "cell_type": "code",
   "execution_count": 6,
   "metadata": {},
   "outputs": [],
   "source": [
    "#XXXXXXXXXXXXXXXXXXXXXXXXXXXXXXXXXXXXXXXXXXXXXXXXXXXXXXXxXXXXXXXXXXXXXXXXXXXXXXXXXXXXXX"
   ]
  },
  {
   "cell_type": "code",
   "execution_count": 7,
   "metadata": {},
   "outputs": [],
   "source": [
    "# DATA CLEAN UP"
   ]
  },
  {
   "cell_type": "code",
   "execution_count": 8,
   "metadata": {},
   "outputs": [
    {
     "name": "stdout",
     "output_type": "stream",
     "text": [
      "id                   0\n",
      "region               0\n",
      "price                0\n",
      "year              1205\n",
      "manufacturer     17646\n",
      "model             5277\n",
      "condition       174104\n",
      "cylinders       177678\n",
      "fuel              3013\n",
      "odometer          4400\n",
      "title_status      8242\n",
      "transmission      2556\n",
      "VIN             161042\n",
      "drive           130567\n",
      "size            306361\n",
      "type             92858\n",
      "paint_color     130203\n",
      "state                0\n",
      "dtype: int64\n"
     ]
    }
   ],
   "source": [
    "# Checking for missing values in entire DataFrame\n",
    "missing_values_count = df.isna().sum()\n",
    "print(missing_values_count)"
   ]
  },
  {
   "cell_type": "code",
   "execution_count": 9,
   "metadata": {},
   "outputs": [],
   "source": [
    "## There are some anomalies in a pricing column\n",
    "### defining the list of values to be removed\n",
    "to_remove = [1111111, 1111111111, 123456789, 1234567890, 12345678, 1234567, 123456, 12345, 777777, 3736928711, 3024942282, 1000000, 135008900, 10004000]\n",
    "### using boolean indexing to select the rows that do not contain the values to be removed\n",
    "df = df[~df['price'].isin(to_remove)]\n"
   ]
  },
  {
   "cell_type": "code",
   "execution_count": 10,
   "metadata": {},
   "outputs": [],
   "source": [
    "## There are some anomalies in a odometer column\n",
    "### It is safe to assume that majority of used cars have mechanical odometers that can record maximum milage of 999,999\n",
    "### I will replace the milage of > 999999 with NaN value\n",
    "df.loc[df['odometer'] > 999999, 'odometer'] = np.nan\n",
    "### It is safe to assume that used cars will have a milage greater than 100 miles\n",
    "df.loc[df['odometer'] <100, 'odometer'] = np.nan"
   ]
  },
  {
   "cell_type": "code",
   "execution_count": 11,
   "metadata": {},
   "outputs": [
    {
     "name": "stdout",
     "output_type": "stream",
     "text": [
      "id                   0\n",
      "region               0\n",
      "price                0\n",
      "year              1205\n",
      "manufacturer     17620\n",
      "model             5250\n",
      "condition       174043\n",
      "cylinders       177609\n",
      "fuel              3013\n",
      "odometer         11669\n",
      "title_status      8242\n",
      "transmission      2556\n",
      "VIN             160940\n",
      "drive           130502\n",
      "size            306275\n",
      "type             92776\n",
      "paint_color     130132\n",
      "state                0\n",
      "dtype: int64\n"
     ]
    }
   ],
   "source": [
    "# Checking changes in missing values\n",
    "missing_values_count = df.isna().sum()\n",
    "print(missing_values_count)"
   ]
  },
  {
   "cell_type": "code",
   "execution_count": 12,
   "metadata": {},
   "outputs": [],
   "source": [
    "## Mistakes happen with filling out information and the information can be found in a different column\n",
    "## I will go through rows to find missing info"
   ]
  },
  {
   "cell_type": "code",
   "execution_count": 13,
   "metadata": {},
   "outputs": [],
   "source": [
    "### for NaN in 'manufacturer' column\n",
    "### list of model keywords\n",
    "model_keywords = ['Isuzu', 'Volkswagen', 'Toyota', 'Mitsubishi', 'Jeep', 'Chrysler', 'Subaru', 'Honda', 'Mazda', 'Nissan', 'Suzuki', 'Lexus', 'Scion', 'Daewoo', 'Kia', 'Hyundai', 'SsangYong', 'Renault', 'VAZ', 'Leyland', 'Mahindra', 'Piaggio', 'Mercedes', 'Ford', 'Proton', 'Jaguar', 'Rover', 'Rolls', 'Bentley', 'DeLorean', 'Lotus', 'Alexander', 'Tata', 'Chevrolet', 'Audi', 'Peugeot', 'Citroen', 'Matra', 'SOE', 'Tauro', 'BMW', 'Mini', 'Volkswagen', 'Opel', 'Maserati', 'Alfa', 'Cagiva', 'Chevy', 'Chev', 'VW', 'Chevy', 'Chevrolet', 'chev', 'vw', 'mercedes', 'rolls']\n",
    "\n",
    "### applying replacement operation to all rows in 'df'\n",
    "df['manufacturer'] = df.apply(lambda row: row['manufacturer'] if not pd.isna(row['manufacturer']) else next((kw for kw in model_keywords if kw.lower() in ' '.join([str(val).lower() for val in row.values]).lower()), np.nan), axis=1)\n"
   ]
  },
  {
   "cell_type": "code",
   "execution_count": 14,
   "metadata": {},
   "outputs": [],
   "source": [
    "### for NaN in 'type' column\n",
    "### list of model keywords\n",
    "model_keywords = ['pickup', 'pickup', 'pickup', 'pickup', 'pickup', 'mini-pickup', 'pickup', 'offroad', 'pickup', 'pickup', 'pickup', 'pickup']\n",
    "\n",
    "### applying replacement operation to all rows in 'df'\n",
    "df['type'] = df.apply(lambda row: row['type'] if not pd.isna(row['type']) else next((kw for kw in model_keywords if kw.lower() in ' '.join([str(val).lower() for val in row.values]).lower()), np.nan), axis=1)\n"
   ]
  },
  {
   "cell_type": "code",
   "execution_count": 15,
   "metadata": {},
   "outputs": [],
   "source": [
    "### for NaN in 'paint_color' column\n",
    "### list of model keywords\n",
    "model_keywords = ['white', 'black', 'red', 'silver', 'gold', 'blue', 'yellow', 'gray', 'brown', 'green', 'orange', 'purple']\n",
    "\n",
    "### applying replacement operation to all rows in 'df'\n",
    "df['paint_color'] = df.apply(lambda row: row['paint_color'] if not pd.isna(row['paint_color']) else next((kw for kw in model_keywords if kw.lower() in ' '.join([str(val).lower() for val in row.values]).lower()), np.nan), axis=1)\n"
   ]
  },
  {
   "cell_type": "code",
   "execution_count": 16,
   "metadata": {},
   "outputs": [],
   "source": [
    "### for NaN in 'drive' column\n",
    "### list of model keywords\n",
    "model_keywords = ['rwd', '4wd', 'fwd']\n",
    "\n",
    "### applying replacement operation to all rows in 'df'\n",
    "df['drive'] = df.apply(lambda row: row['drive'] if not pd.isna(row['drive']) else next((kw for kw in model_keywords if kw.lower() in ' '.join([str(val).lower() for val in row.values]).lower()), np.nan), axis=1)\n"
   ]
  },
  {
   "cell_type": "code",
   "execution_count": 17,
   "metadata": {},
   "outputs": [],
   "source": [
    "### for NaN in 'fuel' column\n",
    "### list of model keywords\n",
    "model_keywords = ['gas', 'diesel', 'hybrid', 'electric']\n",
    "\n",
    "### applying replacement operation to all rows in 'df'\n",
    "df['fuel'] = df.apply(lambda row: row['fuel'] if not pd.isna(row['fuel']) else next((kw for kw in model_keywords if kw.lower() in ' '.join([str(val).lower() for val in row.values]).lower()), np.nan), axis=1)\n"
   ]
  },
  {
   "cell_type": "code",
   "execution_count": 18,
   "metadata": {},
   "outputs": [
    {
     "name": "stdout",
     "output_type": "stream",
     "text": [
      "id                   0\n",
      "region               0\n",
      "price                0\n",
      "year              1205\n",
      "manufacturer     13018\n",
      "model             5250\n",
      "condition       174043\n",
      "cylinders       177609\n",
      "fuel              2980\n",
      "odometer         11669\n",
      "title_status      8242\n",
      "transmission      2556\n",
      "VIN             160940\n",
      "drive           129834\n",
      "size            306275\n",
      "type             92539\n",
      "paint_color     120436\n",
      "state                0\n",
      "dtype: int64\n"
     ]
    }
   ],
   "source": [
    "# Checking improvement in missing values in entire DataFrame\n",
    "missing_values_count = df.isna().sum()\n",
    "print(missing_values_count)"
   ]
  },
  {
   "cell_type": "code",
   "execution_count": 19,
   "metadata": {},
   "outputs": [],
   "source": [
    "## Based on \"VIN' numbers we can decode quite a few Nan fields.\n",
    "## I will go through standard VIN codes and most popular VIN codes to fill as many NaN fields as possible"
   ]
  },
  {
   "cell_type": "code",
   "execution_count": 20,
   "metadata": {},
   "outputs": [],
   "source": [
    "### for NaN in 'manufacturer' column\n",
    "### Defining a dictionary of manufacturer codes and their corresponding names\n",
    "manufacturer_codes = {\n",
    "    'AAM': 'Isuzu',\n",
    "    'AAV': 'Volkswagen',\n",
    "    'AHT': 'Toyota',\n",
    "    'JA3': 'Mitsubishi',\n",
    "    'JA4': 'Mitsubishi',\n",
    "    'JAA': 'Isuzu',\n",
    "    'JAB': 'Isuzu',\n",
    "    'JAC': 'Isuzu',\n",
    "    'JAE': 'Isuzu',\n",
    "    'JAL': 'Isuzu',\n",
    "    'JA7': 'Mitsubishi',\n",
    "    'JAS': 'Isuzu',\n",
    "    'JBE': 'Jeep',\n",
    "    'JCB': 'Chrysler',\n",
    "    'JF1': 'Subaru',\n",
    "    'JF2': 'Subaru',\n",
    "    'JF3': 'Subaru',\n",
    "    'JF4': 'Subaru',\n",
    "    'JF5': 'Subaru',\n",
    "    'JHB': 'Honda',\n",
    "    'JHL': 'Honda',\n",
    "    'JHM': 'Honda',\n",
    "    'JHN': 'Honda',\n",
    "    'JMB': 'Mazda',\n",
    "    'JMC': 'Mazda',\n",
    "    'JN1': 'Nissan',\n",
    "    'JN2': 'Nissan',\n",
    "    'JN3': 'Nissan',\n",
    "    'JN4': 'Nissan',\n",
    "    'JN5': 'Nissan',\n",
    "    'JN6': 'Nissan',\n",
    "    'JN8': 'Nissan',\n",
    "    'JNB': 'Nissan',\n",
    "    'JS1': 'Suzuki',\n",
    "    'JS2': 'Suzuki',\n",
    "    'JS3': 'Suzuki',\n",
    "    'JT2': 'Toyota',\n",
    "    'JT3': 'Toyota',\n",
    "    'JT4': 'Toyota',\n",
    "    'JT5': 'Toyota',\n",
    "    'JT6': 'Lexus',\n",
    "    'JT8': 'Lexus',\n",
    "    'JTE': 'Toyota',\n",
    "    'JTH': 'Lexus',\n",
    "    'JTL': 'Scion',\n",
    "    'JTN': 'Toyota',\n",
    "    'JYA': 'Yamaha',\n",
    "    'KL1': 'Daewoo',\n",
    "    'KL2': 'Daewoo',\n",
    "    'KNB': 'Kia',\n",
    "    'KNC': 'Kia',\n",
    "    'KND': 'Kia',\n",
    "    'KNE': 'Kia',\n",
    "    'KNG': 'Hyundai',\n",
    "    'KNH': 'Hyundai',\n",
    "    'KNL': 'Hyundai',\n",
    "    'KPA': 'SsangYong',\n",
    "    'KPT': 'SsangYong',\n",
    "    'L56': 'Renault',\n",
    "    'L5Y': 'Renault',\n",
    "    'LAA': 'VAZ (Lada)',\n",
    "    'LDV': 'Leyland DAF',\n",
    "    'MA1': 'Mahindra',\n",
    "    'MAL': 'Hyundai',\n",
    "    'MHR': 'Honda',\n",
    "    'MNB': 'Mitsubishi',\n",
    "    'MM8': 'Mazda',\n",
    "    'MP1': 'Piaggio',\n",
    "    'NLE': 'Mercedes-Benz',\n",
    "    'NM0': 'Ford',\n",
    "    'NLH': 'Nissan',\n",
    "    'PL1': 'Proton',\n",
    "    'PM1': 'Piaggio',\n",
    "    'SAJ': 'Jaguar',\n",
    "    'SAL': 'Land Rover',\n",
    "    'SAS': 'MG Rover',\n",
    "    'SCA': 'Rolls-Royce',\n",
    "    'SCB': 'Bentley',\n",
    "    'SCE': 'DeLorean',\n",
    "    'SCM': 'Lotus',\n",
    "    'SFD': 'Alexander Dennis',\n",
    "    'SHH': 'Honda',\n",
    "    'SHS': 'Honda',\n",
    "    'SJN': 'Nissan',\n",
    "    'SK9': 'Toyota',\n",
    "    'SLB': 'Daewoo',\n",
    "    'SMT': 'Mitsubishi',\n",
    "    'SN1': 'Tata',\n",
    "    'TCC': 'Chevrolet',\n",
    "    'TRU': 'Audi',\n",
    "    'VF1': 'Renault',\n",
    "    'VF3': 'Peugeot/Citroen',\n",
    "    'VF7': 'Citroen',\n",
    "    'VF8': 'Matra',\n",
    "    'VN1': 'SOE',\n",
    "    'VSK': 'Nissan',\n",
    "    'VSS': 'Suzuki',\n",
    "    'VV9': 'Tauro',\n",
    "    'WAU': 'Audi',\n",
    "    'WBA': 'BMW',\n",
    "    'WBS': 'BMW M',\n",
    "    'WBX': 'BMW',\n",
    "    'WDC': 'Mercedes-Benz',\n",
    "    'WDD': 'Mercedes-Benz',\n",
    "    'WMW': 'Mini',\n",
    "    'WVW': 'Volkswagen',\n",
    "    'WV1': 'Volkswagen',\n",
    "    'W0L': 'Opel/Vauxhall',\n",
    "    'ZAM': 'Maserati',\n",
    "    'ZAP': 'Piaggio',\n",
    "    'ZAR': 'Alfa Romeo',\n",
    "    'ZCG': 'Cagiva'\n",
    "}\n",
    "\n",
    "### Looping through the manufacturer codes and update the 'manufacturer' column\n",
    "for code, name in manufacturer_codes.items():\n",
    "    df.loc[df['VIN'].str.contains(code) & df['manufacturer'].isna(), 'manufacturer'] = name\n"
   ]
  },
  {
   "cell_type": "code",
   "execution_count": 21,
   "metadata": {},
   "outputs": [],
   "source": [
    "# Sometimes the brand has abbreviation. So fixing it\n",
    "df['manufacturer'] = df['manufacturer'].str.lower()\n",
    "df['manufacturer'] = df['manufacturer'].replace(['Chevy', 'Chevrolet', 'chev', 'chevy'], 'chevrolet')\n",
    "df['manufacturer'] = df['manufacturer'].replace(['vw'], 'volkswagen')\n",
    "df['manufacturer'] = df['manufacturer'].replace(['mercedes'], 'mercedes-benz')\n",
    "df['manufacturer'] = df['manufacturer'].replace(['bmw m'], 'bmw')\n",
    "df['manufacturer'] = df['manufacturer'].replace(['rover'], 'land rover')\n",
    "df['manufacturer'] = df['manufacturer'].replace(['rolls'], 'rolls-royce')\n",
    "df['manufacturer'] = df['manufacturer'].replace(['alfa-romeo'], 'alfa romeo')"
   ]
  },
  {
   "cell_type": "code",
   "execution_count": 22,
   "metadata": {},
   "outputs": [],
   "source": [
    "### for NaN in 'year' column\n",
    "### Defining a dictionary of year codes and their corresponding names\n",
    "year_codes = {\n",
    " \n",
    "    'P': '1993',\n",
    "    'R': '1994',\n",
    "    'S': '1995',\n",
    "    'T': '1996',\n",
    "    'V': '1997',\n",
    "    'W': '1998',\n",
    "    'X': '1999',\n",
    "    'Y': '2000',\n",
    "    '1': '2001',\n",
    "    '2': '2002',\n",
    "    '3': '2003',\n",
    "    '4': '2004',\n",
    "    '5': '2005',\n",
    "    '6': '2006',\n",
    "    '7': '2007',\n",
    "    '8': '2008',\n",
    "    '9': '2009',\n",
    "}\n",
    "\n",
    "### Looping through the year codes and update the 'year' column based on what code is in 10th position\n",
    "for code, name in year_codes.items():\n",
    "    df.loc[df['VIN'].str.contains(code) & (df['VIN'].str.len() > 9) & df['year'].isna(), 'year'] = name\n"
   ]
  },
  {
   "cell_type": "code",
   "execution_count": 23,
   "metadata": {},
   "outputs": [],
   "source": [
    "### for NaN in 'type' column\n",
    "### Defining a dictionary of type codes and their corresponding names\n",
    "type_codes = {\n",
    "    '1': 'pickup',\n",
    "    '3': 'pickup',\n",
    "    '5': 'pickup',\n",
    "    '6': 'pickup',\n",
    "    '7': 'pickup',\n",
    "}\n",
    "\n",
    "### Looping through the type codes and update the 'type' column based on what code is in 7th position\n",
    "for code, name in type_codes.items():\n",
    "    df.loc[df['VIN'].str.contains(code) & (df['VIN'].str.len() > 6) & df['type'].isna(), 'type'] = name\n",
    "    \n",
    "    \n",
    "### most common type codes\n",
    "df.loc[df['VIN'].str.contains('1HG') & df['type'].isna(), 'type'] = 'pickup'\n",
    "df.loc[df['VIN'].str.contains('1FA') & df['type'].isna(), 'type'] = 'pickup'\n",
    "df.loc[df['VIN'].str.contains('JM1') & df['type'].isna(), 'type'] = 'pickup'\n",
    "df.loc[df['VIN'].str.contains('4T1') & df['type'].isna(), 'type'] = 'pickup'\n",
    "df.loc[df['VIN'].str.contains('3N1') & df['type'].isna(), 'type'] = 'pickup'\n",
    "df.loc[df['VIN'].str.contains('1G1') & df['type'].isna(), 'type'] = 'pickup'\n",
    "df.loc[df['VIN'].str.contains('JTE') & df['type'].isna(), 'type'] = 'pickup'\n",
    "df.loc[df['VIN'].str.contains('1FM') & df['type'].isna(), 'type'] = 'pickup'\n",
    "df.loc[df['VIN'].str.contains('1GN') & df['type'].isna(), 'type'] = 'pickup'\n",
    "df.loc[df['VIN'].str.contains('5J6') & df['type'].isna(), 'type'] = 'pickup'\n",
    "df.loc[df['VIN'].str.contains('1J4') & df['type'].isna(), 'type'] = 'pickup'\n",
    "df.loc[df['VIN'].str.contains('JTE') & df['type'].isna(), 'type'] = 'pickup'\n",
    "df.loc[df['VIN'].str.contains('1FT') & df['type'].isna(), 'type'] = 'pickup'\n",
    "df.loc[df['VIN'].str.contains('1GC') & df['type'].isna(), 'type'] = 'pickup'\n",
    "df.loc[df['VIN'].str.contains('3D') & df['type'].isna(), 'type'] = 'pickup'\n",
    "df.loc[df['VIN'].str.contains('5T') & df['type'].isna(), 'type'] = 'pickup'\n",
    "df.loc[df['VIN'].str.contains('1GT') & df['type'].isna(), 'type'] = 'pickup'\n",
    "df.loc[df['VIN'].str.contains('3C') & df['type'].isna(), 'type'] = 'pickup'\n",
    "df.loc[df['VIN'].str.contains('1F') & df['type'].isna(), 'type'] = 'pickup'\n",
    "df.loc[df['VIN'].str.contains('WB') & df['type'].isna(), 'type'] = 'pickup'\n",
    "df.loc[df['VIN'].str.contains('WDB') & df['type'].isna(), 'type'] = 'pickup'\n",
    "df.loc[df['VIN'].str.contains('WP') & df['type'].isna(), 'type'] = 'pickup'\n",
    "df.loc[df['VIN'].str.contains('JM') & df['type'].isna(), 'type'] = 'pickup'\n",
    "df.loc[df['VIN'].str.contains('WAU') & df['type'].isna(), 'type'] = 'pickup'\n",
    "df.loc[df['VIN'].str.contains('SHH') & df['type'].isna(), 'type'] = 'pickup'\n",
    "df.loc[df['VIN'].str.contains('WVW') & df['type'].isna(), 'type'] = 'pickup'\n",
    "df.loc[df['VIN'].str.contains('JTD') & df['type'].isna(), 'type'] = 'pickup'\n",
    "df.loc[df['VIN'].str.contains('WF0') & df['type'].isna(), 'type'] = 'pickup'\n",
    "df.loc[df['VIN'].str.contains('JM') & df['type'].isna(), 'type'] = 'pickup'\n",
    "df.loc[df['VIN'].str.contains('2D') & df['type'].isna(), 'type'] = 'pickup'\n",
    "df.loc[df['VIN'].str.contains('1FB') & df['type'].isna(), 'type'] = 'pickup'\n",
    "df.loc[df['VIN'].str.contains('JT') & df['type'].isna(), 'type'] = 'pickup'\n",
    "df.loc[df['VIN'].str.contains('5N1') & df['type'].isna(), 'type'] = 'pickup'\n",
    "df.loc[df['VIN'].str.contains('WDD') & df['type'].isna(), 'type'] = 'pickup'\n",
    "df.loc[df['VIN'].str.contains('WBA') & df['type'].isna(), 'type'] = 'pickup'\n",
    "df.loc[df['VIN'].str.contains('WP') & df['type'].isna(), 'type'] = 'pickup'\n",
    "df.loc[df['VIN'].str.contains('WAU') & df['type'].isna(), 'type'] = 'pickup'\n",
    "df.loc[df['VIN'].str.contains('1G1') & df['type'].isna(), 'type'] = 'pickup'"
   ]
  },
  {
   "cell_type": "code",
   "execution_count": 24,
   "metadata": {},
   "outputs": [],
   "source": [
    "### for NaN in 'cylinder' column\n",
    "### most common 'cylinder' codes\n",
    "### checking if VIN contains 'V8' and 'cylinders' is NaN and replace with '8 cylinders'\n",
    "df.loc[df['VIN'].str.contains('V8') & df['cylinders'].isna(), 'cylinders'] = '8 cylinders'\n",
    "df.loc[df['VIN'].str.contains('V10') & df['cylinders'].isna(), 'cylinders'] = '10 cylinders'\n",
    "df.loc[df['VIN'].str.contains('C12') & df['cylinders'].isna(), 'cylinders'] = '12 cylinders'\n",
    "df.loc[df['VIN'].str.contains('L4') & df['cylinders'].isna(), 'cylinders'] = '4 cylinders'\n",
    "df.loc[df['VIN'].str.contains('L6') & df['cylinders'].isna(), 'cylinders'] = '6 cylinders'\n",
    "df.loc[df['VIN'].str.contains('V6') & df['cylinders'].isna(), 'cylinders'] = '6 cylinders'\n",
    "df.loc[df['VIN'].str.contains('L4') & df['cylinders'].isna(), 'cylinders'] = '4 cylinders'\n",
    "df.loc[df['VIN'].str.contains('L3') & df['cylinders'].isna(), 'cylinders'] = '3 cylinders'\n",
    "df.loc[df['VIN'].str.contains('K3') & df['cylinders'].isna(), 'cylinders'] = '3 cylinders'\n",
    "df.loc[df['VIN'].str.contains('H3') & df['cylinders'].isna(), 'cylinders'] = '3 cylinders'\n",
    "df.loc[df['VIN'].str.contains('L5') & df['cylinders'].isna(), 'cylinders'] = '5 cylinders'\n",
    "df.loc[df['VIN'].str.contains('B5') & df['cylinders'].isna(), 'cylinders'] = '5 cylinders'\n",
    "df.loc[df['VIN'].str.contains('T5') & df['cylinders'].isna(), 'cylinders'] = '5 cylinders'\n",
    "\n",
    "### Looping through DataFrame rows\n",
    "for index, row in df.iterrows():\n",
    "    vin = row['VIN']\n",
    "    cylinders = row['cylinders']\n",
    "    \n",
    "    # Checking if cylinders value is NaN and VIN contains '6' or 'R' or '3' in its 8th position\n",
    "    if pd.isna(cylinders) and isinstance(vin, str) and len(vin) > 7 and vin[7] in ['6', 'R', '3']:\n",
    "        df.at[index, 'cylinders'] = '6 cylinders'\n",
    "        \n",
    "    # Checking if cylinders value is NaN and VIN contains 'L', 'W', 'X', 'N' or 'G' in its 5th position\n",
    "    if pd.isna(cylinders) and isinstance(vin, str) and len(vin) > 4 and vin[4] in ['L', 'W', 'X', 'N', 'G']:\n",
    "        df.at[index, 'cylinders'] = '6 cylinders'\n",
    "    \n",
    "    # Checking if cylinders value is NaN and VIN contains 'L', 'W', 'N'in its 6th position\n",
    "    if pd.isna(cylinders) and isinstance(vin, str) and len(vin) > 5 and vin[5] in ['L', 'W', 'N']:\n",
    "        df.at[index, 'cylinders'] = '6 cylinders'\n",
    "        \n",
    "    # Checking if cylinders value is NaN and VIN contains 'L', 'W', 'N'in its 7th position\n",
    "    if pd.isna(cylinders) and isinstance(vin, str) and len(vin) > 6 and vin[6] in ['L', 'W', 'N']:\n",
    "        df.at[index, 'cylinders'] = '6 cylinders'\n",
    "        \n",
    "    # Checking if cylinders value is NaN and VIN contains 'W','V', 'R','K','B', C', 'E', 'X', 'Y', 'S', 'T' in its 4th position\n",
    "    if pd.isna(cylinders) and isinstance(vin, str) and len(vin) > 3 and vin[3] in ['W', 'V','R', 'K','B', 'C', 'E', 'X', 'Y', 'S', 'T']:\n",
    "        df.at[index, 'cylinders'] = '4 cylinders'\n",
    "        \n",
    "    # Checking if cylinders value is NaN and VIN contains 'L','V', 'W','Y','P' in its 8th position\n",
    "    if pd.isna(cylinders) and isinstance(vin, str) and len(vin) > 7 and vin[7] in ['L','V', 'W','Y','P']:\n",
    "        df.at[index, 'cylinders'] = '8 cylinders'    \n",
    "        \n",
    "    # Checking if cylinders value is NaN and VIN contains '8' in its 5th position\n",
    "    if pd.isna(cylinders) and isinstance(vin, str) and len(vin) > 4 and vin[4] in ['8']:\n",
    "        df.at[index, 'cylinders'] = '8 cylinders'\n",
    "        \n",
    "    # Checking if cylinders value is NaN and VIN contains 'D', 'E', 'F' in its 8th position\n",
    "    if pd.isna(cylinders) and isinstance(vin, str) and len(vin) > 7 and vin[7] in ['D', 'E', 'F']:\n",
    "        df.at[index, 'cylinders'] = 'other'\n",
    "        \n",
    "    # Checking if cylinders value is NaN and VIN contains 'D', 'H' in its 7th position\n",
    "    if pd.isna(cylinders) and isinstance(vin, str) and len(vin) > 6 and vin[6] in ['D', 'H']:\n",
    "        df.at[index, 'cylinders'] = 'other'\n",
    "        \n",
    "    # Checking if cylinders value is NaN and VIN contains 'T' in its 5th position\n",
    "    if pd.isna(cylinders) and isinstance(vin, str) and len(vin) > 4 and vin[4] in ['T']:\n",
    "        df.at[index, 'cylinders'] = 'other'\n",
    "        \n",
    "    # Checking if cylinders value is NaN and VIN contains 'Y' in its 6th position\n",
    "    if pd.isna(cylinders) and isinstance(vin, str) and len(vin) > 5 and vin[5] in ['Y']:\n",
    "        df.at[index, 'cylinders'] = '12 cylinders'\n",
    "        \n",
    "    # Checking if cylinders value is NaN and VIN contains '0' in its 7th position\n",
    "    if pd.isna(cylinders) and isinstance(vin, str) and len(vin) > 6 and vin[6] in ['0']:\n",
    "        df.at[index, 'cylinders'] = '12 cylinders'\n",
    "        \n",
    "    # Checking if cylinders value is NaN and VIN contains '2' in its 8th position\n",
    "    if pd.isna(cylinders) and isinstance(vin, str) and len(vin) > 7 and vin[7] in ['2']:\n",
    "        df.at[index, 'cylinders'] = '12 cylinders'\n",
    "        "
   ]
  },
  {
   "cell_type": "code",
   "execution_count": 25,
   "metadata": {},
   "outputs": [
    {
     "name": "stdout",
     "output_type": "stream",
     "text": [
      "id                   0\n",
      "region               0\n",
      "price                0\n",
      "year                79\n",
      "manufacturer     12641\n",
      "model             5250\n",
      "condition       174043\n",
      "cylinders        85505\n",
      "fuel              2980\n",
      "odometer         11669\n",
      "title_status      8242\n",
      "transmission      2556\n",
      "VIN             160940\n",
      "drive           129834\n",
      "size            306275\n",
      "type             64982\n",
      "paint_color     120436\n",
      "state                0\n",
      "dtype: int64\n"
     ]
    }
   ],
   "source": [
    "# Checking for missing values in entire DataFrame to figure out the improvement\n",
    "missing_values_count = df.isna().sum()\n",
    "print(missing_values_count)"
   ]
  },
  {
   "cell_type": "code",
   "execution_count": 26,
   "metadata": {},
   "outputs": [],
   "source": [
    "## DROPPING COLUMNS\n",
    "## Understanding the columns and its values (I am posting only the results for columns that I will manipulate)"
   ]
  },
  {
   "cell_type": "code",
   "execution_count": 27,
   "metadata": {},
   "outputs": [],
   "source": [
    "### I can drop id column because it doesn't contribute to building a model\n",
    "df = df.drop('id', axis=1)\n",
    "\n",
    "### I can drop VIN column because they are all unique values and don't affect outcomes\n",
    "df = df.drop('VIN', axis=1)\n",
    "\n",
    "### I decided to drop the \"size\" column because more than 70% of data is missing. I also believe that \"type\" \n",
    "### column indicates well the size of the car.\n",
    "df = df.drop('size', axis=1)\n",
    "\n",
    "### It looks like there are almost 30,000 values in a 'model' column. It will just slow down processing time and won't have valuable input\n",
    "df = df.drop('model', axis=1)"
   ]
  },
  {
   "cell_type": "code",
   "execution_count": 28,
   "metadata": {},
   "outputs": [],
   "source": [
    "## DROPPING ROWS"
   ]
  },
  {
   "cell_type": "code",
   "execution_count": 29,
   "metadata": {},
   "outputs": [],
   "source": [
    "### Droppig rows that have NaN in column \"Year\" becuase this is a very important parameter when buying a car.\n",
    "### Anyway there are only 79 rows in that category\n",
    "\n",
    "#### creating a new dataframe with only the rows that have NaN in 'year' column so I could expect that data and if anything can be salvaged\n",
    "df_missing_year = df[df['year'].isnull()].copy()\n",
    "\n",
    "##### dropping the rows with NaN values in 'year' column from the original dataframe\n",
    "df.dropna(subset=['year'], inplace=True)\n",
    "\n"
   ]
  },
  {
   "cell_type": "code",
   "execution_count": 30,
   "metadata": {},
   "outputs": [],
   "source": [
    "### An age column is better than year column. Hence I will replace it.\n",
    "# Converting 'year' column from object to float\n",
    "df['year'] = df['year'].astype(float)\n",
    "\n",
    "# Subtracting 'year' from current year to create 'age' column\n",
    "df['age'] = 2022 - df['year']\n",
    "\n",
    "# Dropping the 'year' column\n",
    "df = df.drop(columns=['year'])"
   ]
  },
  {
   "cell_type": "code",
   "execution_count": 31,
   "metadata": {},
   "outputs": [],
   "source": [
    "###  Dropping rows missing 4 values or more, becuase it's to much missing information (25% or more per row)\n",
    "\n",
    "#### select the specified columns and count the number of NaN values per row\n",
    "null_counts = df[['fuel', 'odometer', 'title_status', 'transmission', 'manufacturer', 'condition', 'cylinders', 'drive', 'type', 'paint_color']].isna().sum(axis=1)\n",
    "\n",
    "#### selecting rows with 4 NaN values per row\n",
    "rows_to_drop = df[null_counts == 4].index\n",
    "\n",
    "#### dropping the selected rows from the original dataframe 'df'\n",
    "df.drop(rows_to_drop, inplace=True)"
   ]
  },
  {
   "cell_type": "code",
   "execution_count": 32,
   "metadata": {},
   "outputs": [],
   "source": [
    "### Droppig rows that have NaN in column \"type\" becuase this is a very important parameter when buying a car.\n",
    "### As long as we don't loose more than 20% of data we should be fine. \n",
    "\n",
    "#### creating a new dataframe with only the rows that have NaN in 'year' column so I could expect that data and if anything can be salvaged\n",
    "df_missing_type = df[df['type'].isnull()].copy()\n",
    "\n",
    "##### dropping the rows with NaN values in 'year' column from the original dataframe\n",
    "df.dropna(subset=['type'], inplace=True)"
   ]
  },
  {
   "cell_type": "code",
   "execution_count": 33,
   "metadata": {},
   "outputs": [
    {
     "name": "stdout",
     "output_type": "stream",
     "text": [
      "region               0\n",
      "price                0\n",
      "manufacturer      7491\n",
      "condition       128699\n",
      "cylinders        35495\n",
      "fuel              2398\n",
      "odometer          7670\n",
      "title_status      7422\n",
      "transmission      2072\n",
      "drive            77283\n",
      "type                 0\n",
      "paint_color      68655\n",
      "state                0\n",
      "age                  0\n",
      "dtype: int64\n"
     ]
    }
   ],
   "source": [
    "# Checking for missing values in entire DataFrame to figure out the improvement\n",
    "missing_values_count = df.isna().sum()\n",
    "print(missing_values_count)"
   ]
  },
  {
   "cell_type": "code",
   "execution_count": 34,
   "metadata": {},
   "outputs": [
    {
     "name": "stdout",
     "output_type": "stream",
     "text": [
      "<class 'pandas.core.frame.DataFrame'>\n",
      "Int64Index: 356000 entries, 27 to 426879\n",
      "Data columns (total 14 columns):\n",
      " #   Column        Non-Null Count   Dtype  \n",
      "---  ------        --------------   -----  \n",
      " 0   region        356000 non-null  object \n",
      " 1   price         356000 non-null  int64  \n",
      " 2   manufacturer  348509 non-null  object \n",
      " 3   condition     227301 non-null  object \n",
      " 4   cylinders     320505 non-null  object \n",
      " 5   fuel          353602 non-null  object \n",
      " 6   odometer      348330 non-null  float64\n",
      " 7   title_status  348578 non-null  object \n",
      " 8   transmission  353928 non-null  object \n",
      " 9   drive         278717 non-null  object \n",
      " 10  type          356000 non-null  object \n",
      " 11  paint_color   287345 non-null  object \n",
      " 12  state         356000 non-null  object \n",
      " 13  age           356000 non-null  float64\n",
      "dtypes: float64(2), int64(1), object(11)\n",
      "memory usage: 40.7+ MB\n"
     ]
    }
   ],
   "source": [
    "df.info()"
   ]
  },
  {
   "cell_type": "code",
   "execution_count": 35,
   "metadata": {},
   "outputs": [],
   "source": [
    "###COLUMN: 'MANUFACTURER'\n",
    "### The columns 'manufacturer' has less than 2.2 % of missing data so I decided to \n",
    "### replacing NaN with NA manufacturer value\n",
    "df['manufacturer'] = df['manufacturer'].fillna('NA manufacturer')"
   ]
  },
  {
   "cell_type": "code",
   "execution_count": 36,
   "metadata": {},
   "outputs": [
    {
     "name": "stdout",
     "output_type": "stream",
     "text": [
      "region               0\n",
      "price                0\n",
      "manufacturer         0\n",
      "condition       128699\n",
      "cylinders        35495\n",
      "fuel              2398\n",
      "odometer          7670\n",
      "title_status      7422\n",
      "transmission      2072\n",
      "drive            77283\n",
      "type                 0\n",
      "paint_color      68655\n",
      "state                0\n",
      "age                  0\n",
      "dtype: int64\n"
     ]
    }
   ],
   "source": [
    "# Checking for missing values in entire DataFrame to figure out the improvement\n",
    "missing_values_count = df.isna().sum()\n",
    "print(missing_values_count)"
   ]
  },
  {
   "cell_type": "code",
   "execution_count": 37,
   "metadata": {},
   "outputs": [
    {
     "name": "stdout",
     "output_type": "stream",
     "text": [
      "<class 'pandas.core.frame.DataFrame'>\n",
      "Int64Index: 356000 entries, 27 to 426879\n",
      "Data columns (total 14 columns):\n",
      " #   Column        Non-Null Count   Dtype  \n",
      "---  ------        --------------   -----  \n",
      " 0   region        356000 non-null  object \n",
      " 1   price         356000 non-null  int64  \n",
      " 2   manufacturer  356000 non-null  object \n",
      " 3   condition     227301 non-null  object \n",
      " 4   cylinders     320505 non-null  object \n",
      " 5   fuel          353602 non-null  object \n",
      " 6   odometer      348330 non-null  float64\n",
      " 7   title_status  348578 non-null  object \n",
      " 8   transmission  353928 non-null  object \n",
      " 9   drive         278717 non-null  object \n",
      " 10  type          356000 non-null  object \n",
      " 11  paint_color   287345 non-null  object \n",
      " 12  state         356000 non-null  object \n",
      " 13  age           356000 non-null  float64\n",
      "dtypes: float64(2), int64(1), object(11)\n",
      "memory usage: 40.7+ MB\n"
     ]
    }
   ],
   "source": [
    "df.info()"
   ]
  },
  {
   "cell_type": "code",
   "execution_count": 38,
   "metadata": {},
   "outputs": [],
   "source": [
    "#XXXXXXXXXXXXXXXXXXXXXXXXXXXXXXXXXXXXXXXXXXXXXXXXXXXXXXXxXXXXXXXXXXXXXXXXXXXXXXXXXXXXXX"
   ]
  },
  {
   "cell_type": "code",
   "execution_count": 39,
   "metadata": {},
   "outputs": [],
   "source": [
    "# Summary of data cleaning so far:\n",
    "\n",
    "# Original data had 426,880 entries and now it has 356000 entries. \n",
    "# It is less than 17% loss of data.\n",
    "# I believe that it is acceptable to loose up to 20% of data and we are withing that range.\n",
    "\n",
    "# I will not delete anymore data, but manipulate it with median, mode or equivalent percentage fill."
   ]
  },
  {
   "cell_type": "code",
   "execution_count": 40,
   "metadata": {},
   "outputs": [],
   "source": [
    "# The remaining data cleaning will be performed on separate dataset to reflect characteristics of each car group.\n",
    "# I will separate pickup cars out of main data frame. This include any car 25 years old or older.\n",
    "# I will split remaining dataframe by type. Each type has specific requirements and different usage. For example: \n",
    "# a family will be shopping for a different car than a farmer or someone that wants to have fun, fast car."
   ]
  },
  {
   "cell_type": "code",
   "execution_count": 41,
   "metadata": {},
   "outputs": [],
   "source": [
    "#XXXXXXXXXXXXXXXXXXXXXXXXXXXXXXXXXXXXXXXXXXXXXXXXXXXXXXXxXXXXXXXXXXXXXXXXXXXXXXXXXXXXXX"
   ]
  },
  {
   "cell_type": "code",
   "execution_count": 42,
   "metadata": {},
   "outputs": [],
   "source": [
    "# DATAFRAME FOR ANTIQUE CARS (25+ YEARS OLD)"
   ]
  },
  {
   "cell_type": "code",
   "execution_count": 43,
   "metadata": {},
   "outputs": [
    {
     "name": "stdout",
     "output_type": "stream",
     "text": [
      "<class 'pandas.core.frame.DataFrame'>\n",
      "Int64Index: 13547 entries, 137 to 426838\n",
      "Data columns (total 14 columns):\n",
      " #   Column        Non-Null Count  Dtype  \n",
      "---  ------        --------------  -----  \n",
      " 0   region        13547 non-null  object \n",
      " 1   price         13547 non-null  int64  \n",
      " 2   manufacturer  13547 non-null  object \n",
      " 3   condition     11331 non-null  object \n",
      " 4   cylinders     12759 non-null  object \n",
      " 5   fuel          13471 non-null  object \n",
      " 6   odometer      12925 non-null  float64\n",
      " 7   title_status  13402 non-null  object \n",
      " 8   transmission  13520 non-null  object \n",
      " 9   drive         11838 non-null  object \n",
      " 10  type          13547 non-null  object \n",
      " 11  paint_color   12053 non-null  object \n",
      " 12  state         13547 non-null  object \n",
      " 13  age           13547 non-null  float64\n",
      "dtypes: float64(2), int64(1), object(11)\n",
      "memory usage: 1.6+ MB\n"
     ]
    },
    {
     "data": {
      "text/html": [
       "<div>\n",
       "<style scoped>\n",
       "    .dataframe tbody tr th:only-of-type {\n",
       "        vertical-align: middle;\n",
       "    }\n",
       "\n",
       "    .dataframe tbody tr th {\n",
       "        vertical-align: top;\n",
       "    }\n",
       "\n",
       "    .dataframe thead th {\n",
       "        text-align: right;\n",
       "    }\n",
       "</style>\n",
       "<table border=\"1\" class=\"dataframe\">\n",
       "  <thead>\n",
       "    <tr style=\"text-align: right;\">\n",
       "      <th></th>\n",
       "      <th>region</th>\n",
       "      <th>price</th>\n",
       "      <th>manufacturer</th>\n",
       "      <th>condition</th>\n",
       "      <th>cylinders</th>\n",
       "      <th>fuel</th>\n",
       "      <th>odometer</th>\n",
       "      <th>title_status</th>\n",
       "      <th>transmission</th>\n",
       "      <th>drive</th>\n",
       "      <th>type</th>\n",
       "      <th>paint_color</th>\n",
       "      <th>state</th>\n",
       "      <th>age</th>\n",
       "    </tr>\n",
       "  </thead>\n",
       "  <tbody>\n",
       "    <tr>\n",
       "      <th>137</th>\n",
       "      <td>auburn</td>\n",
       "      <td>2500</td>\n",
       "      <td>NA manufacturer</td>\n",
       "      <td>good</td>\n",
       "      <td>6 cylinders</td>\n",
       "      <td>gas</td>\n",
       "      <td>47000.0</td>\n",
       "      <td>clean</td>\n",
       "      <td>manual</td>\n",
       "      <td>rwd</td>\n",
       "      <td>pickup</td>\n",
       "      <td>brown</td>\n",
       "      <td>al</td>\n",
       "      <td>56.0</td>\n",
       "    </tr>\n",
       "    <tr>\n",
       "      <th>194</th>\n",
       "      <td>birmingham</td>\n",
       "      <td>33990</td>\n",
       "      <td>kia</td>\n",
       "      <td>NaN</td>\n",
       "      <td>6 cylinders</td>\n",
       "      <td>gas</td>\n",
       "      <td>48784.0</td>\n",
       "      <td>clean</td>\n",
       "      <td>automatic</td>\n",
       "      <td>fwd</td>\n",
       "      <td>SUV</td>\n",
       "      <td>black</td>\n",
       "      <td>al</td>\n",
       "      <td>28.0</td>\n",
       "    </tr>\n",
       "    <tr>\n",
       "      <th>219</th>\n",
       "      <td>birmingham</td>\n",
       "      <td>2500</td>\n",
       "      <td>bmw</td>\n",
       "      <td>fair</td>\n",
       "      <td>6 cylinders</td>\n",
       "      <td>gas</td>\n",
       "      <td>110661.0</td>\n",
       "      <td>clean</td>\n",
       "      <td>automatic</td>\n",
       "      <td>rwd</td>\n",
       "      <td>sedan</td>\n",
       "      <td>white</td>\n",
       "      <td>al</td>\n",
       "      <td>27.0</td>\n",
       "    </tr>\n",
       "    <tr>\n",
       "      <th>228</th>\n",
       "      <td>birmingham</td>\n",
       "      <td>5500</td>\n",
       "      <td>ford</td>\n",
       "      <td>good</td>\n",
       "      <td>8 cylinders</td>\n",
       "      <td>gas</td>\n",
       "      <td>239000.0</td>\n",
       "      <td>clean</td>\n",
       "      <td>automatic</td>\n",
       "      <td>NaN</td>\n",
       "      <td>truck</td>\n",
       "      <td>green</td>\n",
       "      <td>al</td>\n",
       "      <td>44.0</td>\n",
       "    </tr>\n",
       "    <tr>\n",
       "      <th>245</th>\n",
       "      <td>birmingham</td>\n",
       "      <td>5500</td>\n",
       "      <td>mercedes-benz</td>\n",
       "      <td>good</td>\n",
       "      <td>4 cylinders</td>\n",
       "      <td>gas</td>\n",
       "      <td>9999.0</td>\n",
       "      <td>clean</td>\n",
       "      <td>automatic</td>\n",
       "      <td>rwd</td>\n",
       "      <td>convertible</td>\n",
       "      <td>yellow</td>\n",
       "      <td>al</td>\n",
       "      <td>48.0</td>\n",
       "    </tr>\n",
       "  </tbody>\n",
       "</table>\n",
       "</div>"
      ],
      "text/plain": [
       "         region  price     manufacturer condition    cylinders fuel  odometer  \\\n",
       "137      auburn   2500  NA manufacturer      good  6 cylinders  gas   47000.0   \n",
       "194  birmingham  33990              kia       NaN  6 cylinders  gas   48784.0   \n",
       "219  birmingham   2500              bmw      fair  6 cylinders  gas  110661.0   \n",
       "228  birmingham   5500             ford      good  8 cylinders  gas  239000.0   \n",
       "245  birmingham   5500    mercedes-benz      good  4 cylinders  gas    9999.0   \n",
       "\n",
       "    title_status transmission drive         type paint_color state   age  \n",
       "137        clean       manual   rwd       pickup       brown    al  56.0  \n",
       "194        clean    automatic   fwd          SUV       black    al  28.0  \n",
       "219        clean    automatic   rwd        sedan       white    al  27.0  \n",
       "228        clean    automatic   NaN        truck       green    al  44.0  \n",
       "245        clean    automatic   rwd  convertible      yellow    al  48.0  "
      ]
     },
     "execution_count": 43,
     "metadata": {},
     "output_type": "execute_result"
    }
   ],
   "source": [
    "### Cars 25 years and older are considered pickup and they should be separated and have their own ML model\n",
    "### Dropping rows with antique cars and creating seperate dataframe for them\n",
    "\n",
    "#### converting the 'year' column to integer data type\n",
    "df['age'] = pd.to_numeric(df['age'], errors='coerce')\n",
    "\n",
    "#### creating a new dataframe 'df_antiques' containing only rows with year <= 1997\n",
    "df_antiques = df[df['age'] >= 25].copy()\n",
    "\n",
    "#### dropping the rows with age>=25 from the original dataframe 'df'\n",
    "df.drop(df[df['age'] >= 25].index, inplace=True)\n",
    "\n",
    "df_antiques.info()\n",
    "df_antiques.head()"
   ]
  },
  {
   "cell_type": "code",
   "execution_count": 44,
   "metadata": {},
   "outputs": [
    {
     "name": "stdout",
     "output_type": "stream",
     "text": [
      "<class 'pandas.core.frame.DataFrame'>\n",
      "Int64Index: 342453 entries, 27 to 426879\n",
      "Data columns (total 14 columns):\n",
      " #   Column        Non-Null Count   Dtype  \n",
      "---  ------        --------------   -----  \n",
      " 0   region        342453 non-null  object \n",
      " 1   price         342453 non-null  int64  \n",
      " 2   manufacturer  342453 non-null  object \n",
      " 3   condition     215970 non-null  object \n",
      " 4   cylinders     307746 non-null  object \n",
      " 5   fuel          340131 non-null  object \n",
      " 6   odometer      335405 non-null  float64\n",
      " 7   title_status  335176 non-null  object \n",
      " 8   transmission  340408 non-null  object \n",
      " 9   drive         266879 non-null  object \n",
      " 10  type          342453 non-null  object \n",
      " 11  paint_color   275292 non-null  object \n",
      " 12  state         342453 non-null  object \n",
      " 13  age           342453 non-null  float64\n",
      "dtypes: float64(2), int64(1), object(11)\n",
      "memory usage: 39.2+ MB\n"
     ]
    }
   ],
   "source": [
    "df.info()"
   ]
  },
  {
   "cell_type": "code",
   "execution_count": 45,
   "metadata": {},
   "outputs": [],
   "source": [
    "###### Each type of car has specific target client group with specific set of requirements.\n",
    "###### For example: a family of 6 buys a different car than someone looking to have\n",
    "###### a weekend fun car or a farmer...\n",
    "###### Therefore I will create seperate ML models (by type) to understand what drives the\n",
    "###### price in each category."
   ]
  },
  {
   "cell_type": "code",
   "execution_count": 46,
   "metadata": {},
   "outputs": [],
   "source": [
    "# Dividing the dataframe by type:\n",
    "df_sedan = df[df['type'] == 'sedan']\n",
    "df_SUV = df[df['type'] == 'SUV']\n",
    "df_pickup = df[df['type'] == 'pickup']\n",
    "df_truck = df[df['type'] == 'truck']\n",
    "df_coupe = df[df['type'] == 'coupe']\n",
    "df_hatchback = df[df['type'] == 'hatchback']\n",
    "df_convertible = df[df['type'] == 'convertible']\n",
    "df_van = df[df['type'] == 'van']\n",
    "df_wagon = df[df['type'] == 'wagon']\n",
    "df_minivan = df[df['type'] == 'mini-van']\n",
    "df_bus = df[df['type'] == 'bus']\n",
    "df_offroad = df[df['type'] == 'offroad']"
   ]
  },
  {
   "cell_type": "code",
   "execution_count": 47,
   "metadata": {},
   "outputs": [],
   "source": [
    "# Downloading data frames for the ML models\n",
    "import os\n",
    "downloads_folder = os.path.expanduser(\"/Users/chameleonjj/Downloads\")\n",
    "df_sedan.to_csv(os.path.join(downloads_folder, \"df_sedan.csv\"), index=False)\n",
    "df_SUV.to_csv(os.path.join(downloads_folder, \"df_SUV.csv\"), index=False)\n",
    "df_pickup.to_csv(os.path.join(downloads_folder, \"df_pickup.csv\"), index=False)\n",
    "df_truck.to_csv(os.path.join(downloads_folder, \"df_truck.csv\"), index=False)\n",
    "df_coupe.to_csv(os.path.join(downloads_folder, \"df_coupe.csv\"), index=False)\n",
    "df_hatchback.to_csv(os.path.join(downloads_folder, \"df_hatchback.csv\"), index=False)\n",
    "df_convertible.to_csv(os.path.join(downloads_folder, \"df_convertible.csv\"), index=False)\n",
    "df_van.to_csv(os.path.join(downloads_folder, \"df_van.csv\"), index=False)\n",
    "df_wagon.to_csv(os.path.join(downloads_folder, \"df_wagon.csv\"), index=False)\n",
    "df_minivan.to_csv(os.path.join(downloads_folder, \"df_minivan.csv\"), index=False)\n",
    "df_bus.to_csv(os.path.join(downloads_folder, \"df_bus.csv\"), index=False)\n",
    "df_offroad.to_csv(os.path.join(downloads_folder, \"df_offroad.csv\"), index=False)\n",
    "df_antiques.to_csv(os.path.join(downloads_folder, \"df_antiques.csv\"), index=False)"
   ]
  },
  {
   "cell_type": "code",
   "execution_count": null,
   "metadata": {},
   "outputs": [],
   "source": []
  }
 ],
 "metadata": {
  "kernelspec": {
   "display_name": "Python 3 (ipykernel)",
   "language": "python",
   "name": "python3"
  },
  "language_info": {
   "codemirror_mode": {
    "name": "ipython",
    "version": 3
   },
   "file_extension": ".py",
   "mimetype": "text/x-python",
   "name": "python",
   "nbconvert_exporter": "python",
   "pygments_lexer": "ipython3",
   "version": "3.9.13"
  },
  "widgets": {
   "application/vnd.jupyter.widget-state+json": {
    "state": {},
    "version_major": 2,
    "version_minor": 0
   }
  }
 },
 "nbformat": 4,
 "nbformat_minor": 4
}
